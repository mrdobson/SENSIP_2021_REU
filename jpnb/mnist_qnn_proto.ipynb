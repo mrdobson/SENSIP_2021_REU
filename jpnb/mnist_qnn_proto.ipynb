{
  "nbformat": 4,
  "nbformat_minor": 0,
  "metadata": {
    "colab": {
      "name": "mnist_qnn_proto.ipynb",
      "provenance": [],
      "collapsed_sections": [],
      "authorship_tag": "ABX9TyPp492Xak3mdpdXSecHdRyn",
      "include_colab_link": true
    },
    "kernelspec": {
      "display_name": "Python 3",
      "name": "python3"
    },
    "language_info": {
      "name": "python"
    }
  },
  "cells": [
    {
      "cell_type": "markdown",
      "metadata": {
        "id": "view-in-github",
        "colab_type": "text"
      },
      "source": [
        "<a href=\"https://colab.research.google.com/github/mrdobson/SENSIP_2021_REU/blob/main/jpnb/mnist_qnn_proto.ipynb\" target=\"_parent\"><img src=\"https://colab.research.google.com/assets/colab-badge.svg\" alt=\"Open In Colab\"/></a>"
      ]
    },
    {
      "cell_type": "code",
      "metadata": {
        "colab": {
          "base_uri": "https://localhost:8080/"
        },
        "id": "8W7xPYz-Wv4w",
        "outputId": "2abffa8e-b8bd-457d-d2b0-b5929e251ee0"
      },
      "source": [
        "!pip install qiskit\n",
        "!pip install qiskit_machine_learning\n",
        "# install platexenc for mpl qcircuit display?\n",
        "!pip install pylatexenc"
      ],
      "execution_count": null,
      "outputs": [
        {
          "output_type": "stream",
          "text": [
            "Requirement already satisfied: qiskit in ./anaconda3/envs/quantum/lib/python3.9/site-packages (0.25.0)\r\n",
            "Requirement already satisfied: qiskit-terra==0.17.0 in ./anaconda3/envs/quantum/lib/python3.9/site-packages (from qiskit) (0.17.0)\r\n",
            "Requirement already satisfied: qiskit-ignis==0.6.0 in ./anaconda3/envs/quantum/lib/python3.9/site-packages (from qiskit) (0.6.0)\r\n",
            "Requirement already satisfied: qiskit-aqua==0.9.0 in ./anaconda3/envs/quantum/lib/python3.9/site-packages (from qiskit) (0.9.0)\n",
            "Requirement already satisfied: qiskit-aer==0.8.0 in ./anaconda3/envs/quantum/lib/python3.9/site-packages (from qiskit) (0.8.0)\n",
            "Requirement already satisfied: qiskit-ibmq-provider==0.12.2 in ./anaconda3/envs/quantum/lib/python3.9/site-packages (from qiskit) (0.12.2)\n",
            "Requirement already satisfied: pybind11>=2.6 in ./anaconda3/envs/quantum/lib/python3.9/site-packages (from qiskit-aer==0.8.0->qiskit) (2.6.2)\n",
            "Requirement already satisfied: scipy>=1.0 in ./anaconda3/envs/quantum/lib/python3.9/site-packages (from qiskit-aer==0.8.0->qiskit) (1.6.1)\n",
            "Requirement already satisfied: numpy>=1.16.3 in ./anaconda3/envs/quantum/lib/python3.9/site-packages (from qiskit-aer==0.8.0->qiskit) (1.19.5)\n",
            "Requirement already satisfied: scikit-learn<=0.24.1,>=0.20.0 in ./anaconda3/envs/quantum/lib/python3.9/site-packages (from qiskit-aqua==0.9.0->qiskit) (0.24.1)\n",
            "Requirement already satisfied: dlx<=1.0.4 in ./anaconda3/envs/quantum/lib/python3.9/site-packages (from qiskit-aqua==0.9.0->qiskit) (1.0.4)\n",
            "Requirement already satisfied: pandas<=1.2.3 in ./anaconda3/envs/quantum/lib/python3.9/site-packages (from qiskit-aqua==0.9.0->qiskit) (1.2.3)\n",
            "Requirement already satisfied: quandl<=3.6.0 in ./anaconda3/envs/quantum/lib/python3.9/site-packages (from qiskit-aqua==0.9.0->qiskit) (3.6.0)\n",
            "Requirement already satisfied: retworkx<=0.8.0,>=0.7.0 in ./anaconda3/envs/quantum/lib/python3.9/site-packages (from qiskit-aqua==0.9.0->qiskit) (0.8.0)\n",
            "Requirement already satisfied: fastdtw<=0.3.4 in ./anaconda3/envs/quantum/lib/python3.9/site-packages (from qiskit-aqua==0.9.0->qiskit) (0.3.4)\n",
            "Requirement already satisfied: docplex<=2.20.204 in ./anaconda3/envs/quantum/lib/python3.9/site-packages (from qiskit-aqua==0.9.0->qiskit) (2.20.204)\n",
            "Requirement already satisfied: yfinance<=0.1.55 in ./anaconda3/envs/quantum/lib/python3.9/site-packages (from qiskit-aqua==0.9.0->qiskit) (0.1.55)\n",
            "Requirement already satisfied: sympy<=1.7.1,>=1.3 in ./anaconda3/envs/quantum/lib/python3.9/site-packages (from qiskit-aqua==0.9.0->qiskit) (1.7.1)\n",
            "Requirement already satisfied: psutil<=5.8.0,>=5 in ./anaconda3/envs/quantum/lib/python3.9/site-packages (from qiskit-aqua==0.9.0->qiskit) (5.8.0)\n",
            "Requirement already satisfied: h5py<=3.1.0 in ./anaconda3/envs/quantum/lib/python3.9/site-packages (from qiskit-aqua==0.9.0->qiskit) (3.1.0)\n",
            "Requirement already satisfied: setuptools>=40.1.0 in ./anaconda3/envs/quantum/lib/python3.9/site-packages (from qiskit-aqua==0.9.0->qiskit) (52.0.0.post20210125)\n",
            "Requirement already satisfied: urllib3>=1.21.1 in ./anaconda3/envs/quantum/lib/python3.9/site-packages (from qiskit-ibmq-provider==0.12.2->qiskit) (1.26.4)\n",
            "Requirement already satisfied: nest-asyncio!=1.1.0,>=1.0.0 in ./anaconda3/envs/quantum/lib/python3.9/site-packages (from qiskit-ibmq-provider==0.12.2->qiskit) (1.5.1)\n",
            "Requirement already satisfied: requests>=2.19 in ./anaconda3/envs/quantum/lib/python3.9/site-packages (from qiskit-ibmq-provider==0.12.2->qiskit) (2.25.1)\n",
            "Requirement already satisfied: requests-ntlm>=1.1.0 in ./anaconda3/envs/quantum/lib/python3.9/site-packages (from qiskit-ibmq-provider==0.12.2->qiskit) (1.1.0)\n",
            "Requirement already satisfied: python-dateutil>=2.8.0 in ./anaconda3/envs/quantum/lib/python3.9/site-packages (from qiskit-ibmq-provider==0.12.2->qiskit) (2.8.1)\n",
            "Requirement already satisfied: websockets>=8 in ./anaconda3/envs/quantum/lib/python3.9/site-packages (from qiskit-ibmq-provider==0.12.2->qiskit) (8.1)\n",
            "Requirement already satisfied: fastjsonschema>=2.10 in ./anaconda3/envs/quantum/lib/python3.9/site-packages (from qiskit-terra==0.17.0->qiskit) (2.15.0)\n",
            "Requirement already satisfied: jsonschema>=2.6 in ./anaconda3/envs/quantum/lib/python3.9/site-packages (from qiskit-terra==0.17.0->qiskit) (3.2.0)\n",
            "Requirement already satisfied: ply>=3.10 in ./anaconda3/envs/quantum/lib/python3.9/site-packages (from qiskit-terra==0.17.0->qiskit) (3.11)\n",
            "Requirement already satisfied: dill>=0.3 in ./anaconda3/envs/quantum/lib/python3.9/site-packages (from qiskit-terra==0.17.0->qiskit) (0.3.3)\n",
            "Requirement already satisfied: python-constraint>=1.4 in ./anaconda3/envs/quantum/lib/python3.9/site-packages (from qiskit-terra==0.17.0->qiskit) (1.4.0)\n",
            "Requirement already satisfied: six in ./anaconda3/envs/quantum/lib/python3.9/site-packages (from docplex<=2.20.204->qiskit-aqua==0.9.0->qiskit) (1.15.0)\n",
            "Requirement already satisfied: attrs>=17.4.0 in ./anaconda3/envs/quantum/lib/python3.9/site-packages (from jsonschema>=2.6->qiskit-terra==0.17.0->qiskit) (21.2.0)\n",
            "Requirement already satisfied: pyrsistent>=0.14.0 in ./anaconda3/envs/quantum/lib/python3.9/site-packages (from jsonschema>=2.6->qiskit-terra==0.17.0->qiskit) (0.17.3)\n",
            "Requirement already satisfied: pytz>=2017.3 in ./anaconda3/envs/quantum/lib/python3.9/site-packages (from pandas<=1.2.3->qiskit-aqua==0.9.0->qiskit) (2021.1)\n",
            "Requirement already satisfied: inflection>=0.3.1 in ./anaconda3/envs/quantum/lib/python3.9/site-packages (from quandl<=3.6.0->qiskit-aqua==0.9.0->qiskit) (0.5.1)\n",
            "Requirement already satisfied: more-itertools in ./anaconda3/envs/quantum/lib/python3.9/site-packages (from quandl<=3.6.0->qiskit-aqua==0.9.0->qiskit) (8.7.0)\n",
            "Requirement already satisfied: idna<3,>=2.5 in ./anaconda3/envs/quantum/lib/python3.9/site-packages (from requests>=2.19->qiskit-ibmq-provider==0.12.2->qiskit) (2.10)\n",
            "Requirement already satisfied: chardet<5,>=3.0.2 in ./anaconda3/envs/quantum/lib/python3.9/site-packages (from requests>=2.19->qiskit-ibmq-provider==0.12.2->qiskit) (3.0.4)\n",
            "Requirement already satisfied: certifi>=2017.4.17 in ./anaconda3/envs/quantum/lib/python3.9/site-packages (from requests>=2.19->qiskit-ibmq-provider==0.12.2->qiskit) (2021.5.30)\n",
            "Requirement already satisfied: ntlm-auth>=1.0.2 in ./anaconda3/envs/quantum/lib/python3.9/site-packages (from requests-ntlm>=1.1.0->qiskit-ibmq-provider==0.12.2->qiskit) (1.5.0)\n",
            "Requirement already satisfied: cryptography>=1.3 in ./anaconda3/envs/quantum/lib/python3.9/site-packages (from requests-ntlm>=1.1.0->qiskit-ibmq-provider==0.12.2->qiskit) (3.4.7)\n",
            "Requirement already satisfied: cffi>=1.12 in ./anaconda3/envs/quantum/lib/python3.9/site-packages (from cryptography>=1.3->requests-ntlm>=1.1.0->qiskit-ibmq-provider==0.12.2->qiskit) (1.14.5)\n",
            "Requirement already satisfied: pycparser in ./anaconda3/envs/quantum/lib/python3.9/site-packages (from cffi>=1.12->cryptography>=1.3->requests-ntlm>=1.1.0->qiskit-ibmq-provider==0.12.2->qiskit) (2.20)\n",
            "Requirement already satisfied: joblib>=0.11 in ./anaconda3/envs/quantum/lib/python3.9/site-packages (from scikit-learn<=0.24.1,>=0.20.0->qiskit-aqua==0.9.0->qiskit) (1.0.1)\n",
            "Requirement already satisfied: threadpoolctl>=2.0.0 in ./anaconda3/envs/quantum/lib/python3.9/site-packages (from scikit-learn<=0.24.1,>=0.20.0->qiskit-aqua==0.9.0->qiskit) (2.1.0)\n",
            "Requirement already satisfied: mpmath>=0.19 in ./anaconda3/envs/quantum/lib/python3.9/site-packages (from sympy<=1.7.1,>=1.3->qiskit-aqua==0.9.0->qiskit) (1.2.1)\n",
            "Requirement already satisfied: multitasking>=0.0.7 in ./anaconda3/envs/quantum/lib/python3.9/site-packages (from yfinance<=0.1.55->qiskit-aqua==0.9.0->qiskit) (0.0.9)\n",
            "Requirement already satisfied: lxml>=4.5.1 in ./anaconda3/envs/quantum/lib/python3.9/site-packages (from yfinance<=0.1.55->qiskit-aqua==0.9.0->qiskit) (4.6.3)\n",
            "Requirement already satisfied: qiskit_machine_learning in ./anaconda3/envs/quantum/lib/python3.9/site-packages (0.1.0)\n",
            "Requirement already satisfied: numpy>=1.17 in ./anaconda3/envs/quantum/lib/python3.9/site-packages (from qiskit_machine_learning) (1.19.5)\n",
            "Requirement already satisfied: setuptools>=40.1.0 in ./anaconda3/envs/quantum/lib/python3.9/site-packages (from qiskit_machine_learning) (52.0.0.post20210125)\n",
            "Requirement already satisfied: sparse in ./anaconda3/envs/quantum/lib/python3.9/site-packages (from qiskit_machine_learning) (0.12.0)\n",
            "Requirement already satisfied: scikit-learn>=0.20.0 in ./anaconda3/envs/quantum/lib/python3.9/site-packages (from qiskit_machine_learning) (0.24.1)\n",
            "Requirement already satisfied: scipy>=1.4 in ./anaconda3/envs/quantum/lib/python3.9/site-packages (from qiskit_machine_learning) (1.6.1)\n",
            "Requirement already satisfied: qiskit-terra>=0.17.0 in ./anaconda3/envs/quantum/lib/python3.9/site-packages (from qiskit_machine_learning) (0.17.0)\n",
            "Requirement already satisfied: psutil>=5 in ./anaconda3/envs/quantum/lib/python3.9/site-packages (from qiskit_machine_learning) (5.8.0)\n",
            "Requirement already satisfied: fastdtw in ./anaconda3/envs/quantum/lib/python3.9/site-packages (from qiskit_machine_learning) (0.3.4)\n",
            "Requirement already satisfied: ply>=3.10 in ./anaconda3/envs/quantum/lib/python3.9/site-packages (from qiskit-terra>=0.17.0->qiskit_machine_learning) (3.11)\n",
            "Requirement already satisfied: jsonschema>=2.6 in ./anaconda3/envs/quantum/lib/python3.9/site-packages (from qiskit-terra>=0.17.0->qiskit_machine_learning) (3.2.0)\n",
            "Requirement already satisfied: fastjsonschema>=2.10 in ./anaconda3/envs/quantum/lib/python3.9/site-packages (from qiskit-terra>=0.17.0->qiskit_machine_learning) (2.15.0)\n",
            "Requirement already satisfied: sympy>=1.3 in ./anaconda3/envs/quantum/lib/python3.9/site-packages (from qiskit-terra>=0.17.0->qiskit_machine_learning) (1.7.1)\n",
            "Requirement already satisfied: dill>=0.3 in ./anaconda3/envs/quantum/lib/python3.9/site-packages (from qiskit-terra>=0.17.0->qiskit_machine_learning) (0.3.3)\n",
            "Requirement already satisfied: retworkx>=0.8.0 in ./anaconda3/envs/quantum/lib/python3.9/site-packages (from qiskit-terra>=0.17.0->qiskit_machine_learning) (0.8.0)\n",
            "Requirement already satisfied: python-constraint>=1.4 in ./anaconda3/envs/quantum/lib/python3.9/site-packages (from qiskit-terra>=0.17.0->qiskit_machine_learning) (1.4.0)\n",
            "Requirement already satisfied: python-dateutil>=2.8.0 in ./anaconda3/envs/quantum/lib/python3.9/site-packages (from qiskit-terra>=0.17.0->qiskit_machine_learning) (2.8.1)\n",
            "Requirement already satisfied: six>=1.11.0 in ./anaconda3/envs/quantum/lib/python3.9/site-packages (from jsonschema>=2.6->qiskit-terra>=0.17.0->qiskit_machine_learning) (1.15.0)\n",
            "Requirement already satisfied: attrs>=17.4.0 in ./anaconda3/envs/quantum/lib/python3.9/site-packages (from jsonschema>=2.6->qiskit-terra>=0.17.0->qiskit_machine_learning) (21.2.0)\n",
            "Requirement already satisfied: pyrsistent>=0.14.0 in ./anaconda3/envs/quantum/lib/python3.9/site-packages (from jsonschema>=2.6->qiskit-terra>=0.17.0->qiskit_machine_learning) (0.17.3)\n",
            "Requirement already satisfied: joblib>=0.11 in ./anaconda3/envs/quantum/lib/python3.9/site-packages (from scikit-learn>=0.20.0->qiskit_machine_learning) (1.0.1)\n",
            "Requirement already satisfied: threadpoolctl>=2.0.0 in ./anaconda3/envs/quantum/lib/python3.9/site-packages (from scikit-learn>=0.20.0->qiskit_machine_learning) (2.1.0)\n",
            "Requirement already satisfied: mpmath>=0.19 in ./anaconda3/envs/quantum/lib/python3.9/site-packages (from sympy>=1.3->qiskit-terra>=0.17.0->qiskit_machine_learning) (1.2.1)\n",
            "Requirement already satisfied: numba>=0.49 in ./anaconda3/envs/quantum/lib/python3.9/site-packages (from sparse->qiskit_machine_learning) (0.53.1)\n",
            "Requirement already satisfied: llvmlite<0.37,>=0.36.0rc1 in ./anaconda3/envs/quantum/lib/python3.9/site-packages (from numba>=0.49->sparse->qiskit_machine_learning) (0.36.0)\n",
            "Requirement already satisfied: pylatexenc in ./anaconda3/envs/quantum/lib/python3.9/site-packages (2.10)\n"
          ],
          "name": "stdout"
        }
      ]
    },
    {
      "cell_type": "code",
      "metadata": {
        "id": "Nepl0h2HW_Jl"
      },
      "source": [
        "##############################################################################\n",
        "# QNN Operating on MNIST data set\n",
        "# Matthew Dobson\n",
        "# github - https://github.com/mrdobson\n",
        "# \n",
        "##############################################################################\n",
        "# some of these packages are not necessary, will cull when code is in a better spot\n",
        "import numpy as np\n",
        "import matplotlib.pyplot as plt\n",
        "import time\n",
        "\n",
        "from torch import tensor\n",
        "from torch import cat, no_grad\n",
        "from torch.utils.data import DataLoader\n",
        "from torchvision import datasets, transforms\n",
        "from torch.nn import (Module, Conv2d, Linear, Dropout2d, NLLLoss, \n",
        "                      MaxPool2d, Flatten, Sequential, ReLU, CrossEntropyLoss)\n",
        "import torch.optim as optim\n",
        "import torch.nn.functional as F\n",
        "\n",
        "from qiskit import Aer, QuantumCircuit\n",
        "from qiskit.opflow import Z, I, StateFn, PauliSumOp, AerPauliExpectation, ListOp, Gradient\n",
        "from qiskit.utils import QuantumInstance\n",
        "from qiskit.circuit import Parameter\n",
        "from qiskit.circuit.library import RealAmplitudes, ZZFeatureMap\n",
        "from qiskit.algorithms.optimizers import COBYLA, L_BFGS_B, ADAM\n",
        "\n",
        "from qiskit_machine_learning.neural_networks import TwoLayerQNN, CircuitQNN\n",
        "from qiskit_machine_learning.algorithms.classifiers import NeuralNetworkClassifier, VQC\n",
        "from qiskit_machine_learning.algorithms.regressors import NeuralNetworkRegressor, VQR\n",
        "\n",
        "from qiskit_machine_learning.connectors import TorchConnector\n",
        "from qiskit_machine_learning.exceptions import QiskitMachineLearningError\n",
        "from sklearn.preprocessing import MinMaxScaler, StandardScaler\n",
        "from sklearn.metrics import confusion_matrix"
      ],
      "execution_count": null,
      "outputs": []
    },
    {
      "cell_type": "code",
      "metadata": {
        "id": "RI7oaaNQW4_F"
      },
      "source": [
        "# ---------------\n",
        "# mode parameters:\n",
        "#    toggle these to customize behavior of the system\n",
        "# ---------------\n",
        "# will eventually turn this into a better \"mode select\"\n",
        "\n",
        "#qi = QuantumInstance(Aer.get_backend('qasm_simulator'), shots=1024)\n",
        "qi = QuantumInstance(Aer.get_backend('statevector_simulator'))\n",
        "\n",
        "# define number of qubits\n",
        "num_inputs = 3"
      ],
      "execution_count": null,
      "outputs": []
    },
    {
      "cell_type": "markdown",
      "metadata": {
        "id": "npAvCtwQNWvt"
      },
      "source": [
        "# MNIST Data Load for Training Set"
      ]
    },
    {
      "cell_type": "code",
      "metadata": {
        "id": "QkOQoOdzYK7Z"
      },
      "source": [
        "# number of samples for training\n",
        "n_samples = 7000\n",
        "\n",
        "# returns tuple with X_train.data and X_train.targets <-- what I don't have from iris\n",
        "X_train = datasets.MNIST(root='./data', train=True, download=True,\n",
        "                         transform=transforms.Compose([transforms.ToTensor()]))"
      ],
      "execution_count": null,
      "outputs": []
    },
    {
      "cell_type": "code",
      "metadata": {
        "id": "fF15j6XaYOqH"
      },
      "source": [
        "# limit to num_samples of training set\n",
        "X_train.data = X_train.data[:n_samples]\n",
        "X_train.targets = X_train.targets[:n_samples]\n",
        "#### DEBUG\n",
        "#print(\"xtrain data \", X_train.data)\n",
        "#print(\"xtrain targets \", X_train.targets)"
      ],
      "execution_count": null,
      "outputs": []
    },
    {
      "cell_type": "code",
      "metadata": {
        "id": "rQ0-VOFLYWy4"
      },
      "source": [
        "# perform training load\n",
        "train_loader = DataLoader(X_train, batch_size=1, shuffle=True)"
      ],
      "execution_count": null,
      "outputs": []
    },
    {
      "cell_type": "markdown",
      "metadata": {
        "id": "t-QvIKPsNmlC"
      },
      "source": [
        "# MNIST Data Load for Testing Set"
      ]
    },
    {
      "cell_type": "code",
      "metadata": {
        "id": "PAUKJ56QYY9a"
      },
      "source": [
        "# number of samples for testing\n",
        "n_samples = 3000\n",
        "\n",
        "X_test = datasets.MNIST(root='./data', train=False, download=True,\n",
        "                        transform=transforms.Compose([transforms.ToTensor()]))"
      ],
      "execution_count": null,
      "outputs": []
    },
    {
      "cell_type": "code",
      "metadata": {
        "id": "cx8lKXVgYbmo"
      },
      "source": [
        "# limit to num_samples of training set\n",
        "X_test.data = X_test.data[:n_samples]\n",
        "X_test.targets = X_test.targets[:n_samples]\n",
        "#### DEBUG\n",
        "#print(\"xtrain data \", X_test.data)\n",
        "#print(\"xtrain targets \", X_test.targets)"
      ],
      "execution_count": null,
      "outputs": []
    },
    {
      "cell_type": "code",
      "metadata": {
        "id": "JgO3zSI_YeW_"
      },
      "source": [
        "# perform testing load\n",
        "test_loader = DataLoader(X_test, batch_size=1, shuffle=True)"
      ],
      "execution_count": null,
      "outputs": []
    },
    {
      "cell_type": "markdown",
      "metadata": {
        "id": "98RuFqnQDSgn"
      },
      "source": [
        "# Define QNN"
      ]
    },
    {
      "cell_type": "code",
      "metadata": {
        "colab": {
          "base_uri": "https://localhost:8080/",
          "height": 367
        },
        "id": "QtBkvKBlYjNX",
        "outputId": "6f8b7879-9292-478a-bcd5-7bd4c5f97bb5"
      },
      "source": [
        "# ZZ is 2nd order Pauli expansion circuit\n",
        "fm = ZZFeatureMap(num_inputs, quantum_barrier=True)\n",
        "fm.draw(output='mpl')"
      ],
      "execution_count": null,
      "outputs": [
        {
          "output_type": "execute_result",
          "data": {
            "text/plain": [
              "<Figure size 1591.6x445.48 with 1 Axes>"
            ],
            "image/png": "[encoded data removed]"
          },
          "metadata": {
            "tags": []
          },
          "execution_count": 10
        }
      ]
    },
    {
      "cell_type": "code",
      "metadata": {
        "colab": {
          "base_uri": "https://localhost:8080/",
          "height": 185
        },
        "id": "H-a3XJCDYlGm",
        "outputId": "0fbb9a00-743e-452f-dfb4-823a7059eb90"
      },
      "source": [
        "# RealAmplitudes is used as an ansatz for ML, heuristic trial wave func\n",
        "ansatz = RealAmplitudes(num_inputs, reps=4)\n",
        "ansatz.draw(output='mpl')"
      ],
      "execution_count": null,
      "outputs": [
        {
          "output_type": "execute_result",
          "data": {
            "text/plain": [
              "<Figure size 1110x204.68 with 1 Axes>"
            ],
            "image/png": "[encoded data removed]"
          },
          "metadata": {
            "tags": []
          },
          "execution_count": 11
        }
      ]
    },
    {
      "cell_type": "code",
      "metadata": {
        "colab": {
          "base_uri": "https://localhost:8080/"
        },
        "id": "gxTYfNxNYpTK",
        "outputId": "a7505379-6f6b-4704-fd2a-461f1dc3aefc"
      },
      "source": [
        "# define observable\n",
        "observable = PauliSumOp.from_list([('Z'*num_inputs, 1)])\n",
        "print(observable)"
      ],
      "execution_count": null,
      "outputs": [
        {
          "output_type": "stream",
          "text": [
            "1.0 * ZZZ\n"
          ],
          "name": "stdout"
        }
      ]
    },
    {
      "cell_type": "code",
      "metadata": {
        "colab": {
          "base_uri": "https://localhost:8080/"
        },
        "id": "SSrcsXlRYrhD",
        "outputId": "ff0f40e7-489e-4cd6-86c1-0162fe46e395"
      },
      "source": [
        "# define two layer QNN\n",
        "qnn = TwoLayerQNN(num_inputs, \n",
        "                  feature_map=fm, \n",
        "                  ansatz=ansatz, \n",
        "                  observable=observable,\n",
        "                  quantum_instance=qi)\n",
        "print(qnn.operator)\n",
        "print(qnn.output_shape)\n",
        "\n",
        "print(type(qnn))"
      ],
      "execution_count": null,
      "outputs": [
        {
          "output_type": "stream",
          "text": [
            "ComposedOp([\n",
            "  OperatorMeasurement(1.0 * ZZZ),\n",
            "  CircuitStateFn(\n",
            "       ┌─────────────────────────┐»\n",
            "  q_0: ┤0                        ├»\n",
            "       │                         │»\n",
            "  q_1: ┤1 nlocal(x[0],x[1],x[2]) ├»\n",
            "       │                         │»\n",
            "  q_2: ┤2                        ├»\n",
            "       └─────────────────────────┘»\n",
            "  «     ┌──────────────────────────────────────────────────────────────────────────────────────────┐\n",
            "  «q_0: ┤0                                                                                         ├\n",
            "  «     │                                                                                          │\n",
            "  «q_1: ┤1 nlocal(θ[0],θ[1],θ[2],θ[3],θ[4],θ[5],θ[6],θ[7],θ[8],θ[9],θ[10],θ[11],θ[12],θ[13],θ[14]) ├\n",
            "  «     │                                                                                          │\n",
            "  «q_2: ┤2                                                                                         ├\n",
            "  «     └──────────────────────────────────────────────────────────────────────────────────────────┘\n",
            "  )\n",
            "])\n",
            "(1,)\n",
            "<class 'qiskit_machine_learning.neural_networks.two_layer_qnn.TwoLayerQNN'>\n"
          ],
          "name": "stdout"
        }
      ]
    },
    {
      "cell_type": "code",
      "metadata": {
        "id": "D1n0hLjLY1P-"
      },
      "source": [
        "# create the QNN model\n",
        "# have a Net2 model and a Net3_plus model that we can toggle between based on top level config\n",
        "class Net(Module):\n",
        "\n",
        "    def __init__(self):\n",
        "        super().__init__()\n",
        "        # how this works:\n",
        "        # torch.nn.functional.conv2d(input, weight, bias=None, stride=1, \n",
        "        # padding=0, dilation=1, groups=1) → Tensor\n",
        "        self.conv1 = Conv2d(1, 3, kernel_size=5) # input 1, output 3, 5x5 kernel\n",
        "        self.conv2 = Conv2d(3, 32, kernel_size=5) # input 3, output 32, 5x5 kernel\n",
        "        self.dropout = Dropout2d()\n",
        "        self.fc1 = Linear(512, 128)\n",
        "        self.fc2 = Linear(128, 3)         # 3-dimensional input to QNN\n",
        "        self.qnn = TorchConnector(qnn)\n",
        "        self.fc3 = Linear(1, 10)          # 1-dimensional output from QNN\n",
        "\n",
        "    def forward(self, x):\n",
        "        x = F.relu(self.conv1(x)) # relu activation on 5x5 kernel 1in 3out conv\n",
        "        x = F.max_pool2d(x, 2) # applies a 2D max pooling over an input signal composed of several input planes\n",
        "        x = F.relu(self.conv2(x))\n",
        "        x = F.max_pool2d(x, 2)\n",
        "        x = self.dropout(x)\n",
        "        x = x.view(1, -1)\n",
        "        x = F.relu(self.fc1(x))\n",
        "        x = self.fc2(x)\n",
        "        x = self.qnn(x)  # apply QNN\n",
        "        x = self.fc3(x)\n",
        "        return cat((x, 1 - x), -1)\n",
        "\n",
        "model = Net()"
      ],
      "execution_count": null,
      "outputs": []
    },
    {
      "cell_type": "code",
      "metadata": {
        "id": "otVUjwYzY9Pm"
      },
      "source": [
        "# define model, optimizer and loss function\n",
        "optimizer = optim.Adam(model.parameters(), lr=0.001)\n",
        "loss_func = CrossEntropyLoss()\n",
        "# Negative-log likelihood loss doesn't lend itself as well to this application\n",
        "#loss_func = NLLLoss()"
      ],
      "execution_count": null,
      "outputs": []
    },
    {
      "cell_type": "markdown",
      "metadata": {
        "id": "AgdIfKWPK7T9"
      },
      "source": [
        "# Perform Model Training"
      ]
    },
    {
      "cell_type": "code",
      "metadata": {
        "colab": {
          "background_save": true,
          "base_uri": "https://localhost:8080/"
        },
        "id": "zlgNovnbY952",
        "outputId": "ab2f3e0e-9309-48bc-8661-b92ef6807a04"
      },
      "source": [
        "# start training timer\n",
        "start_train = time.time()\n",
        "\n",
        "epochs = 7    # set num epochs\n",
        "loss_list = [] # store loss history\n",
        "model.train()  # place model in training mode\n",
        "for epoch in range(epochs):\n",
        "    total_loss = []\n",
        "    for batch_idx, (data, target) in enumerate(train_loader):\n",
        "        optimizer.zero_grad(set_to_none=True) # init gradient\n",
        "        output = model(data)             # forward pass\n",
        "        ### DEBUG\n",
        "        #print(\"target is: \", target)\n",
        "        #print(\"output is: \", output)\n",
        "        loss = loss_func(output, target) # calc loss\n",
        "        loss.backward()                  # backward pass\n",
        "        optimizer.step()                 # optimize weights\n",
        "        total_loss.append(loss.item())   # store loss\n",
        "    loss_list.append(sum(total_loss)/len(total_loss))\n",
        "    print('Training [{:0f}%]\\tLoss: {:.4f}'.format(\n",
        "           100. * (epoch + 1) / epochs, loss_list[-1]))\n",
        "\n",
        "# finish training timer    \n",
        "end_train = time.time()\n",
        "print('Training runtime is: ', (end_train - start_train)/60, ' min')"
      ],
      "execution_count": null,
      "outputs": [
        {
          "output_type": "stream",
          "text": [
            "/home/zero/anaconda3/envs/quantum/lib/python3.9/site-packages/torch/nn/functional.py:718: UserWarning: Named tensors and all their associated APIs are an experimental feature and subject to change. Please do not use them for anything important until they are released as stable. (Triggered internally at  /opt/conda/conda-bld/pytorch_1623448238472/work/c10/core/TensorImpl.h:1156.)\n",
            "  return torch.max_pool2d(input, kernel_size, stride, padding, dilation, ceil_mode)\n"
          ],
          "name": "stderr"
        },
        {
          "output_type": "stream",
          "text": [
            "Training [14.285714%]\tLoss: 2.7612\n",
            "Training [28.571429%]\tLoss: 2.3969\n",
            "Training [42.857143%]\tLoss: 2.3534\n"
          ],
          "name": "stdout"
        }
      ]
    },
    {
      "cell_type": "code",
      "metadata": {
        "id": "BdNe3dC6ZIbN"
      },
      "source": [
        "plt.figure(3)\n",
        "plt.plot(loss_list)\n",
        "plt.title('Hybrid NN Training Convergence over {0} epochs (cost reduction)'.format(epochs))\n",
        "plt.xlabel('Training Iterations 0 through {0}'.format(epochs - 1))\n",
        "plt.ylabel('Cross Entropy Loss')\n",
        "plt.show()"
      ],
      "execution_count": null,
      "outputs": []
    },
    {
      "cell_type": "markdown",
      "metadata": {
        "id": "D9XY73Q8Oy-W"
      },
      "source": [
        "# Perform Evaluation"
      ]
    },
    {
      "cell_type": "code",
      "metadata": {
        "id": "osekCLDsZLXu"
      },
      "source": [
        "# start eval time\n",
        "start_eval = time.time()\n",
        "\n",
        "model.eval() # set into eval mode\n",
        "with no_grad():\n",
        "    correct = 0\n",
        "    for batch_idx, (data, target) in enumerate(test_loader):\n",
        "        output = model(data)\n",
        "        if len(output.shape) == 1:\n",
        "            output = output.reshape(1, *output.shape)\n",
        "            \n",
        "        pred = output.argmax(dim=1, keepdim=True)\n",
        "        correct += pred.eq(target.view_as(pred)).sum().item()\n",
        "        \n",
        "        loss = loss_func(output, target)\n",
        "        total_loss.append(loss.item())\n",
        "    # batch_size goes where the 1 is here\n",
        "    print('Performance on test data:\\n\\tLoss: {:.4f}\\n\\tAccuracy: {:.1f}%'\n",
        "           .format(sum(total_loss) / len(total_loss),\n",
        "                correct / len(test_loader) / 1 * 100))\n",
        "    \n",
        "# end eval time\n",
        "end_eval = time.time()\n",
        "print('Evaluation time is: ', (end_eval - start_eval))"
      ],
      "execution_count": null,
      "outputs": []
    },
    {
      "cell_type": "code",
      "metadata": {
        "id": "yncf5QcmZOnZ"
      },
      "source": [
        "# display accuracy of a handful of samples from testing dataset\n",
        "n_samples_show = 6\n",
        "count = 0\n",
        "fig, axes = plt.subplots(nrows=1, ncols=n_samples_show, figsize=(10, 3))\n",
        "\n",
        "model.eval()\n",
        "with no_grad():\n",
        "    for batch_idx, (data, target) in enumerate(test_loader):\n",
        "        if count == n_samples_show:\n",
        "            break\n",
        "        output = model(data)\n",
        "        \n",
        "        pred = output.argmax(dim=1, keepdim=True) \n",
        "        \n",
        "        # remap class values to samp_val 1 and 2\n",
        "        # where pred == 0 set it to samp_val_1, same for pred == 1\n",
        "        # below lines don't work for this, need to figure out another way but not critical\n",
        "        #pred.item[pred.item()==0] = samp_val_1\n",
        "        #pred.item[pred.item()==1] = samp_val_2\n",
        "\n",
        "        axes[count].imshow(data[0].numpy().squeeze(), cmap='gray')\n",
        "\n",
        "        axes[count].set_xticks([])\n",
        "        axes[count].set_yticks([])\n",
        "        axes[count].set_title('Predicted {}'.format(pred.item()))\n",
        "        \n",
        "        count += 1"
      ],
      "execution_count": null,
      "outputs": []
    }
  ]
}