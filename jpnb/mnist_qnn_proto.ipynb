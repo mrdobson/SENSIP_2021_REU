{
 "cells": [
  {
   "cell_type": "code",
   "execution_count": 1,
   "id": "3ec16265",
   "metadata": {},
   "outputs": [],
   "source": [
    "##############################################################################\n",
    "# QNN Operating on Iris data set\n",
    "# Matthew Dobson\n",
    "# github - https://github.com/mrdobson\n",
    "# \n",
    "##############################################################################\n",
    "# some of these packages are not necessary, will cull when code is in a better spot\n",
    "import numpy as np\n",
    "import matplotlib.pyplot as plt\n",
    "import datetime\n",
    "\n",
    "from torch import tensor\n",
    "from torch import cat, no_grad\n",
    "from torch.utils.data import DataLoader\n",
    "from torchvision import datasets, transforms\n",
    "from torch.nn import (Module, Conv2d, Linear, Dropout2d, NLLLoss, \n",
    "                      MaxPool2d, Flatten, Sequential, ReLU)\n",
    "import torch.optim as optim\n",
    "import torch.nn.functional as F\n",
    "\n",
    "from qiskit import Aer, QuantumCircuit\n",
    "from qiskit.opflow import Z, I, StateFn, PauliSumOp, AerPauliExpectation, ListOp, Gradient\n",
    "from qiskit.utils import QuantumInstance\n",
    "from qiskit.circuit import Parameter\n",
    "from qiskit.circuit.library import RealAmplitudes, ZZFeatureMap\n",
    "from qiskit.algorithms.optimizers import COBYLA, L_BFGS_B, ADAM\n",
    "\n",
    "from qiskit_machine_learning.neural_networks import TwoLayerQNN, CircuitQNN\n",
    "from qiskit_machine_learning.algorithms.classifiers import NeuralNetworkClassifier, VQC\n",
    "from qiskit_machine_learning.algorithms.regressors import NeuralNetworkRegressor, VQR\n",
    "\n",
    "from qiskit_machine_learning.connectors import TorchConnector\n",
    "from qiskit_machine_learning.exceptions import QiskitMachineLearningError\n",
    "from sklearn.preprocessing import MinMaxScaler, StandardScaler\n",
    "from sklearn.metrics import confusion_matrix"
   ]
  },
  {
   "cell_type": "code",
   "execution_count": 2,
   "id": "c8e4aab5",
   "metadata": {},
   "outputs": [],
   "source": [
    "# ---------------\n",
    "# mode parameters:\n",
    "#    toggle these to customize behavior of the system\n",
    "# ---------------\n",
    "# will eventually turn this into a better \"mode select\"\n",
    "qi = QuantumInstance(Aer.get_backend('qasm_simulator'), shots=1024)\n",
    "#qi = QuantumInstance(Aer.get_backend('statevector_simulator'))\n",
    "\n",
    "# modify these parameters to change which two characters we're going to\n",
    "# compare against in the model, want to expand to 3 and then on\n",
    "samp_val_1 = 4\n",
    "samp_val_2 = 9"
   ]
  },
  {
   "cell_type": "code",
   "execution_count": 3,
   "id": "61bbdf0e",
   "metadata": {},
   "outputs": [],
   "source": [
    "# init model runtime (not super useful in jupyter yet I think)\n",
    "#begin_time = datetime.datetime.now()"
   ]
  },
  {
   "cell_type": "code",
   "execution_count": 4,
   "id": "f152cb2a",
   "metadata": {},
   "outputs": [
    {
     "name": "stdout",
     "output_type": "stream",
     "text": [
      "Downloading http://yann.lecun.com/exdb/mnist/train-images-idx3-ubyte.gz\n",
      "Failed to download (trying next):\n",
      "HTTP Error 503: Service Unavailable\n",
      "\n",
      "Downloading https://ossci-datasets.s3.amazonaws.com/mnist/train-images-idx3-ubyte.gz\n",
      "Downloading https://ossci-datasets.s3.amazonaws.com/mnist/train-images-idx3-ubyte.gz to ./data/MNIST/raw/train-images-idx3-ubyte.gz\n"
     ]
    },
    {
     "data": {
      "application/vnd.jupyter.widget-view+json": {
       "model_id": "22fbdf5c4ade447d9c18cd2ee42b1ee9",
       "version_major": 2,
       "version_minor": 0
      },
      "text/plain": [
       "  0%|          | 0/9912422 [00:00<?, ?it/s]"
      ]
     },
     "metadata": {},
     "output_type": "display_data"
    },
    {
     "name": "stdout",
     "output_type": "stream",
     "text": [
      "Extracting ./data/MNIST/raw/train-images-idx3-ubyte.gz to ./data/MNIST/raw\n",
      "\n",
      "Downloading http://yann.lecun.com/exdb/mnist/train-labels-idx1-ubyte.gz\n",
      "Downloading http://yann.lecun.com/exdb/mnist/train-labels-idx1-ubyte.gz to ./data/MNIST/raw/train-labels-idx1-ubyte.gz\n"
     ]
    },
    {
     "data": {
      "application/vnd.jupyter.widget-view+json": {
       "model_id": "50f93f0839bc4b54aa97ce325be5b982",
       "version_major": 2,
       "version_minor": 0
      },
      "text/plain": [
       "  0%|          | 0/28881 [00:00<?, ?it/s]"
      ]
     },
     "metadata": {},
     "output_type": "display_data"
    },
    {
     "name": "stdout",
     "output_type": "stream",
     "text": [
      "Extracting ./data/MNIST/raw/train-labels-idx1-ubyte.gz to ./data/MNIST/raw\n",
      "\n",
      "Downloading http://yann.lecun.com/exdb/mnist/t10k-images-idx3-ubyte.gz\n",
      "Downloading http://yann.lecun.com/exdb/mnist/t10k-images-idx3-ubyte.gz to ./data/MNIST/raw/t10k-images-idx3-ubyte.gz\n",
      "Failed to download (trying next):\n",
      "HTTP Error 503: Service Unavailable\n",
      "\n",
      "Downloading https://ossci-datasets.s3.amazonaws.com/mnist/t10k-images-idx3-ubyte.gz\n",
      "Downloading https://ossci-datasets.s3.amazonaws.com/mnist/t10k-images-idx3-ubyte.gz to ./data/MNIST/raw/t10k-images-idx3-ubyte.gz\n"
     ]
    },
    {
     "data": {
      "application/vnd.jupyter.widget-view+json": {
       "model_id": "21497cc9ca404771bb2ad59677a6f2a3",
       "version_major": 2,
       "version_minor": 0
      },
      "text/plain": [
       "  0%|          | 0/1648877 [00:00<?, ?it/s]"
      ]
     },
     "metadata": {},
     "output_type": "display_data"
    },
    {
     "name": "stdout",
     "output_type": "stream",
     "text": [
      "Extracting ./data/MNIST/raw/t10k-images-idx3-ubyte.gz to ./data/MNIST/raw\n",
      "\n",
      "Downloading http://yann.lecun.com/exdb/mnist/t10k-labels-idx1-ubyte.gz\n",
      "Downloading http://yann.lecun.com/exdb/mnist/t10k-labels-idx1-ubyte.gz to ./data/MNIST/raw/t10k-labels-idx1-ubyte.gz\n"
     ]
    },
    {
     "data": {
      "application/vnd.jupyter.widget-view+json": {
       "model_id": "aa1055de4fbb4db59cb30ce95c5834d6",
       "version_major": 2,
       "version_minor": 0
      },
      "text/plain": [
       "  0%|          | 0/4542 [00:00<?, ?it/s]"
      ]
     },
     "metadata": {},
     "output_type": "display_data"
    },
    {
     "name": "stdout",
     "output_type": "stream",
     "text": [
      "Extracting ./data/MNIST/raw/t10k-labels-idx1-ubyte.gz to ./data/MNIST/raw\n",
      "\n",
      "Processing...\n",
      "Done!\n"
     ]
    },
    {
     "name": "stderr",
     "output_type": "stream",
     "text": [
      "/home/zero/anaconda3/envs/quantum/lib/python3.9/site-packages/torchvision/datasets/mnist.py:502: UserWarning: The given NumPy array is not writeable, and PyTorch does not support non-writeable tensors. This means you can write to the underlying (supposedly non-writeable) NumPy array using the tensor. You may want to copy the array to protect its data or make it writeable before converting it to a tensor. This type of warning will be suppressed for the rest of this program. (Triggered internally at  /pytorch/torch/csrc/utils/tensor_numpy.cpp:143.)\n",
      "  return torch.from_numpy(parsed.astype(m[2], copy=False)).view(*s)\n"
     ]
    }
   ],
   "source": [
    "#-------------------------------------------\n",
    "# MNIST Data Load for Training Set\n",
    "#-------------------------------------------\n",
    "n_samples = 700\n",
    "\n",
    "# returns tuple with X_train.data and X_train.targets <-- what I don't have from iris\n",
    "X_train = datasets.MNIST(root='./data', train=True, download=True,\n",
    "                         transform=transforms.Compose([transforms.ToTensor()]))"
   ]
  },
  {
   "cell_type": "code",
   "execution_count": 5,
   "id": "0a2f1d15",
   "metadata": {},
   "outputs": [],
   "source": [
    "# extract only two classifications into data, defined by samp_val 1 and 2 configured above\n",
    "idx = np.append(np.where(X_train.targets == samp_val_1)[0][:n_samples],\n",
    "                np.where(X_train.targets == samp_val_2)[0][:n_samples])"
   ]
  },
  {
   "cell_type": "code",
   "execution_count": 6,
   "id": "4fedfd0e",
   "metadata": {},
   "outputs": [],
   "source": [
    "# preprocessing for training data, limit the scope of our classifications\n",
    "X_train.data = X_train.data[idx]\n",
    "X_train.targets = X_train.targets[idx]\n",
    "\n",
    "# samp vals tunable above in the settings, this is to fit to our data loader\n",
    "X_train.targets[X_train.targets==samp_val_1] = 0\n",
    "X_train.targets[X_train.targets==samp_val_2] = 1\n",
    "### DEBUG    \n",
    "#print(\"xtrain targets \", X_train.targets, \"\\n\")\n",
    "\n",
    "# perform training load\n",
    "train_loader = DataLoader(X_train, batch_size=1, shuffle=True)"
   ]
  },
  {
   "cell_type": "code",
   "execution_count": 7,
   "id": "5facd3e4",
   "metadata": {},
   "outputs": [],
   "source": [
    "#-------------------------------------------\n",
    "# MNIST Data Load for Testing Set\n",
    "#-------------------------------------------\n",
    "n_samples = 300\n",
    "\n",
    "X_test = datasets.MNIST(root='./data', train=False, download=True,\n",
    "                        transform=transforms.Compose([transforms.ToTensor()]))"
   ]
  },
  {
   "cell_type": "code",
   "execution_count": 8,
   "id": "ec87da6a",
   "metadata": {},
   "outputs": [],
   "source": [
    "# extract only two classifications into data, defined by samp_val 1 and 2 configured above\n",
    "idx = np.append(np.where(X_test.targets == samp_val_1)[0][:n_samples], \n",
    "                np.where(X_test.targets == samp_val_2)[0][:n_samples])"
   ]
  },
  {
   "cell_type": "code",
   "execution_count": 9,
   "id": "45ac70af",
   "metadata": {},
   "outputs": [],
   "source": [
    "# preprocessing for test data, limit scope\n",
    "X_test.data = X_test.data[idx]\n",
    "X_test.targets = X_test.targets[idx]\n",
    "\n",
    "# samp vals tunable above in the settings, to fit to data loader\n",
    "X_test.targets[X_test.targets==samp_val_1] = 0\n",
    "X_test.targets[X_test.targets==samp_val_2] = 1\n",
    "### DEBUG    \n",
    "#print(\"xtest targets \", X_train.targets, \"\\n\")\n",
    "\n",
    "# perform testing load\n",
    "test_loader = DataLoader(X_test, batch_size=1, shuffle=True)"
   ]
  },
  {
   "cell_type": "code",
   "execution_count": 10,
   "id": "63739768",
   "metadata": {},
   "outputs": [],
   "source": [
    "#------------   \n",
    "# define QNN\n",
    "#------------\n",
    "num_inputs = 2"
   ]
  },
  {
   "cell_type": "code",
   "execution_count": 11,
   "id": "2eff1784",
   "metadata": {},
   "outputs": [
    {
     "data": {
      "image/png": "[encoded data removed]",
      "text/plain": [
       "<Figure size 929.252x144.48 with 1 Axes>"
      ]
     },
     "execution_count": 11,
     "metadata": {},
     "output_type": "execute_result"
    }
   ],
   "source": [
    "# ZZ is 2nd order Pauli expansion circuit\n",
    "fm = ZZFeatureMap(num_inputs)\n",
    "fm.draw(output='mpl')"
   ]
  },
  {
   "cell_type": "code",
   "execution_count": 12,
   "id": "34cd6f83",
   "metadata": {},
   "outputs": [
    {
     "data": {
      "image/png": "[encoded data removed]",
      "text/plain": [
       "<Figure size 267.052x144.48 with 1 Axes>"
      ]
     },
     "execution_count": 12,
     "metadata": {},
     "output_type": "execute_result"
    }
   ],
   "source": [
    "# RealAmplitudes is used as an ansatz for ML, heuristic trial wave func\n",
    "ansatz = RealAmplitudes(num_inputs, reps=1)\n",
    "ansatz.draw(output='mpl')"
   ]
  },
  {
   "cell_type": "code",
   "execution_count": 13,
   "id": "7e4e088b",
   "metadata": {},
   "outputs": [
    {
     "name": "stdout",
     "output_type": "stream",
     "text": [
      "1.0 * ZZ\n"
     ]
    }
   ],
   "source": [
    "# define observable\n",
    "observable = PauliSumOp.from_list([('Z'*num_inputs, 1)])\n",
    "print(observable)"
   ]
  },
  {
   "cell_type": "code",
   "execution_count": 14,
   "id": "af74a49e",
   "metadata": {},
   "outputs": [
    {
     "name": "stdout",
     "output_type": "stream",
     "text": [
      "ComposedOp([\n",
      "  OperatorMeasurement(1.0 * ZZ),\n",
      "  CircuitStateFn(\n",
      "       ┌────────────────────┐┌──────────────────────────────┐\n",
      "  q_0: ┤0                   ├┤0                             ├\n",
      "       │  nlocal(x[0],x[1]) ││  nlocal(θ[0],θ[1],θ[2],θ[3]) │\n",
      "  q_1: ┤1                   ├┤1                             ├\n",
      "       └────────────────────┘└──────────────────────────────┘\n",
      "  )\n",
      "])\n"
     ]
    }
   ],
   "source": [
    "# define two layer QNN\n",
    "qnn = TwoLayerQNN(num_inputs, \n",
    "                  feature_map=fm, \n",
    "                  ansatz=ansatz, \n",
    "                  observable=observable,\n",
    "                  quantum_instance=qi)\n",
    "print(qnn.operator)"
   ]
  },
  {
   "cell_type": "code",
   "execution_count": 16,
   "id": "a1d1cd54",
   "metadata": {},
   "outputs": [],
   "source": [
    "# create the QNN model\n",
    "class Net(Module):\n",
    "\n",
    "    def __init__(self):\n",
    "        super().__init__()\n",
    "        # how this works:\n",
    "        # torch.nn.functional.conv2d(input, weight, bias=None, stride=1, \n",
    "        # padding=0, dilation=1, groups=1) → Tensor\n",
    "        self.conv1 = Conv2d(1, 2, kernel_size=5)\n",
    "        self.conv2 = Conv2d(2, 16, kernel_size=5)\n",
    "        self.dropout = Dropout2d()\n",
    "        self.fc1 = Linear(256, 64)\n",
    "        self.fc2 = Linear(64, 2)         # 2-dimensional input to QNN\n",
    "        self.qnn = TorchConnector(qnn)  #\n",
    "        self.fc3 = Linear(1, 1)          # 1-dimensional output from QNN\n",
    "\n",
    "    def forward(self, x):\n",
    "        x = F.relu(self.conv1(x))\n",
    "        x = F.max_pool2d(x, 2)\n",
    "        x = F.relu(self.conv2(x))\n",
    "        x = F.max_pool2d(x, 2)\n",
    "        x = self.dropout(x)\n",
    "        x = x.view(1, -1)\n",
    "        x = F.relu(self.fc1(x))\n",
    "        x = self.fc2(x)\n",
    "        x = self.qnn(x)  # apply QNN\n",
    "        x = self.fc3(x)\n",
    "        return cat((x, 1 - x), -1)\n",
    "\n",
    "model = Net()"
   ]
  },
  {
   "cell_type": "code",
   "execution_count": 17,
   "id": "5d55be57",
   "metadata": {},
   "outputs": [],
   "source": [
    "# define model, optimizer and loss function\n",
    "optimizer = optim.Adam(model.parameters(), lr=0.001)\n",
    "loss_func = NLLLoss()"
   ]
  },
  {
   "cell_type": "code",
   "execution_count": 18,
   "id": "a37b1c2d",
   "metadata": {},
   "outputs": [
    {
     "name": "stdout",
     "output_type": "stream",
     "text": [
      "Training [20.000000%]\tLoss: -0.5268\n",
      "Training [40.000000%]\tLoss: -0.6444\n",
      "Training [60.000000%]\tLoss: -0.7006\n",
      "Training [80.000000%]\tLoss: -1.0076\n",
      "Training [100.000000%]\tLoss: -1.5935\n"
     ]
    }
   ],
   "source": [
    "#----------------\n",
    "# start training\n",
    "#----------------\n",
    "epochs = 5    # set num epochs\n",
    "loss_list = [] # store loss history\n",
    "model.train()  # place model in training mode\n",
    "for epoch in range(epochs):\n",
    "    total_loss = []\n",
    "    for batch_idx, (data, target) in enumerate(train_loader):\n",
    "        optimizer.zero_grad(set_to_none=True) # init gradient\n",
    "        output = model(data)             # forward pass\n",
    "        ### DEBUG\n",
    "        #print(\"target is: \", target)\n",
    "        #print(\"output is: \", output)\n",
    "        loss = loss_func(output, target) # calc loss\n",
    "        loss.backward()                  # backward pass\n",
    "        optimizer.step()                 # optimize weights\n",
    "        total_loss.append(loss.item())   # store loss\n",
    "    loss_list.append(sum(total_loss)/len(total_loss))\n",
    "    print('Training [{:0f}%]\\tLoss: {:.4f}'.format(\n",
    "           100. * (epoch + 1) / epochs, loss_list[-1]))"
   ]
  },
  {
   "cell_type": "code",
   "execution_count": 19,
   "id": "13a63f05",
   "metadata": {},
   "outputs": [
    {
     "data": {
      "image/png": "[encoded data removed]",
      "text/plain": [
       "<Figure size 432x288 with 1 Axes>"
      ]
     },
     "metadata": {
      "needs_background": "light"
     },
     "output_type": "display_data"
    }
   ],
   "source": [
    "plt.figure(3)\n",
    "plt.plot(loss_list)\n",
    "plt.title('Hybrid NN Training Convergence over {0} epochs (cost reduction)'.format(epochs))\n",
    "plt.xlabel('Training Iterations 0 through {0}'.format(epochs - 1))\n",
    "plt.ylabel('Neg. Log Likelihood Loss')\n",
    "plt.show()"
   ]
  },
  {
   "cell_type": "code",
   "execution_count": 20,
   "id": "887251e1",
   "metadata": {},
   "outputs": [
    {
     "name": "stdout",
     "output_type": "stream",
     "text": [
      "Performance on test data:\n",
      "\tLoss: -1.7826\n",
      "\tAccuracy: 95.2%\n"
     ]
    }
   ],
   "source": [
    "#--------------------\n",
    "# perform evaluations\n",
    "#--------------------\n",
    "model.eval() # set into eval mode\n",
    "with no_grad():\n",
    "    correct = 0\n",
    "    for batch_idx, (data, target) in enumerate(test_loader):\n",
    "        output = model(data)\n",
    "        if len(output.shape) == 1:\n",
    "            output = output.reshape(1, *output.shape)\n",
    "            \n",
    "        pred = output.argmax(dim=1, keepdim=True)\n",
    "        correct += pred.eq(target.view_as(pred)).sum().item()\n",
    "        \n",
    "        loss = loss_func(output, target)\n",
    "        total_loss.append(loss.item())\n",
    "    # batch_size goes where the 1 is here\n",
    "    print('Performance on test data:\\n\\tLoss: {:.4f}\\n\\tAccuracy: {:.1f}%'\n",
    "           .format(sum(total_loss) / len(total_loss),\n",
    "                correct / len(test_loader) / 1 * 100))"
   ]
  },
  {
   "cell_type": "code",
   "execution_count": 21,
   "id": "2aa400a5",
   "metadata": {},
   "outputs": [
    {
     "name": "stdout",
     "output_type": "stream",
     "text": [
      "MNIST sample 1 is 4, sample 2 is 9\n"
     ]
    }
   ],
   "source": [
    "# display which two sample values are we comparing against?\n",
    "print(\"MNIST sample 1 is {0}, sample 2 is {1}\".format(samp_val_1, samp_val_2))"
   ]
  },
  {
   "cell_type": "code",
   "execution_count": 22,
   "id": "f11b2c8d",
   "metadata": {},
   "outputs": [],
   "source": [
    "# calculate program runtime (not as useful for jupyter, maybe put up in training section)\n",
    "#end_time = datetime.datetime.now()\n",
    "#print(\"\\n\\nModel Runtime is: \", (end_time - begin_time))"
   ]
  },
  {
   "cell_type": "code",
   "execution_count": 23,
   "id": "74824d2f",
   "metadata": {},
   "outputs": [
    {
     "data": {
      "image/png": "[encoded data removed]",
      "text/plain": [
       "<Figure size 720x216 with 6 Axes>"
      ]
     },
     "metadata": {},
     "output_type": "display_data"
    }
   ],
   "source": [
    "# display accuracy of a handful of samples from testing dataset\n",
    "n_samples_show = 6\n",
    "count = 0\n",
    "fig, axes = plt.subplots(nrows=1, ncols=n_samples_show, figsize=(10, 3))\n",
    "\n",
    "model.eval()\n",
    "with no_grad():\n",
    "    for batch_idx, (data, target) in enumerate(test_loader):\n",
    "        if count == n_samples_show:\n",
    "            break\n",
    "        output = model(data)\n",
    "        \n",
    "        pred = output.argmax(dim=1, keepdim=True) \n",
    "\n",
    "        axes[count].imshow(data[0].numpy().squeeze(), cmap='gray')\n",
    "\n",
    "        axes[count].set_xticks([])\n",
    "        axes[count].set_yticks([])\n",
    "        axes[count].set_title('Predicted {}'.format(pred.item()))\n",
    "        \n",
    "        count += 1"
   ]
  },
  {
   "cell_type": "code",
   "execution_count": null,
   "id": "2ab33e41",
   "metadata": {},
   "outputs": [],
   "source": []
  }
 ],
 "metadata": {
  "kernelspec": {
   "display_name": "Python 3",
   "language": "python",
   "name": "python3"
  },
  "language_info": {
   "codemirror_mode": {
    "name": "ipython",
    "version": 3
   },
   "file_extension": ".py",
   "mimetype": "text/x-python",
   "name": "python",
   "nbconvert_exporter": "python",
   "pygments_lexer": "ipython3",
   "version": "3.9.5"
  }
 },
 "nbformat": 4,
 "nbformat_minor": 5
}
