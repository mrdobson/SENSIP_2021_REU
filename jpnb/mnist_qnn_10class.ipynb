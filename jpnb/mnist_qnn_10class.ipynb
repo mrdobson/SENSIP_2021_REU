{
  "nbformat": 4,
  "nbformat_minor": 0,
  "metadata": {
    "colab": {
      "name": "mnist_qnn_10class.ipynb",
      "provenance": [],
      "authorship_tag": "ABX9TyOQydzDLGURwHBCztK3Oeot",
      "include_colab_link": true
    },
    "kernelspec": {
      "name": "python3",
      "display_name": "Python 3"
    },
    "language_info": {
      "name": "python"
    }
  },
  "cells": [
    {
      "cell_type": "markdown",
      "metadata": {
        "id": "view-in-github",
        "colab_type": "text"
      },
      "source": [
        "<a href=\"https://colab.research.google.com/github/mrdobson/SENSIP_2021_REU/blob/main/jpnb/mnist_qnn_10class.ipynb\" target=\"_parent\"><img src=\"https://colab.research.google.com/assets/colab-badge.svg\" alt=\"Open In Colab\"/></a>"
      ]
    },
    {
      "cell_type": "code",
      "metadata": {
        "colab": {
          "base_uri": "https://localhost:8080/"
        },
        "id": "7dPQimkMLlUy",
        "outputId": "d5d826df-ca4e-42da-e403-c3e1d305e05f"
      },
      "source": [
        "!pip install qiskit\n",
        "!pip install qiskit_machine_learning\n",
        "# install platexenc for mpl qcircuit display?\n",
        "!pip install pylatexenc"
      ],
      "execution_count": null,
      "outputs": [
        {
          "output_type": "stream",
          "text": [
            "Requirement already satisfied: qiskit in /usr/local/lib/python3.7/dist-packages (0.27.0)\n",
            "Requirement already satisfied: qiskit-aer==0.8.2 in /usr/local/lib/python3.7/dist-packages (from qiskit) (0.8.2)\n",
            "Requirement already satisfied: qiskit-aqua==0.9.2 in /usr/local/lib/python3.7/dist-packages (from qiskit) (0.9.2)\n",
            "Requirement already satisfied: qiskit-ignis==0.6.0 in /usr/local/lib/python3.7/dist-packages (from qiskit) (0.6.0)\n",
            "Requirement already satisfied: qiskit-ibmq-provider==0.14.0 in /usr/local/lib/python3.7/dist-packages (from qiskit) (0.14.0)\n",
            "Requirement already satisfied: qiskit-terra==0.17.4 in /usr/local/lib/python3.7/dist-packages (from qiskit) (0.17.4)\n",
            "Requirement already satisfied: scipy>=1.0 in /usr/local/lib/python3.7/dist-packages (from qiskit-aer==0.8.2->qiskit) (1.4.1)\n",
            "Requirement already satisfied: numpy>=1.16.3 in /usr/local/lib/python3.7/dist-packages (from qiskit-aer==0.8.2->qiskit) (1.19.5)\n",
            "Requirement already satisfied: pybind11>=2.6 in /usr/local/lib/python3.7/dist-packages (from qiskit-aer==0.8.2->qiskit) (2.6.2)\n",
            "Requirement already satisfied: sympy>=1.3 in /usr/local/lib/python3.7/dist-packages (from qiskit-aqua==0.9.2->qiskit) (1.7.1)\n",
            "Requirement already satisfied: docplex<=2.20.204; sys_platform != \"darwin\" in /usr/local/lib/python3.7/dist-packages (from qiskit-aqua==0.9.2->qiskit) (2.20.204)\n",
            "Requirement already satisfied: dlx<=1.0.4 in /usr/local/lib/python3.7/dist-packages (from qiskit-aqua==0.9.2->qiskit) (1.0.4)\n",
            "Requirement already satisfied: fastdtw<=0.3.4 in /usr/local/lib/python3.7/dist-packages (from qiskit-aqua==0.9.2->qiskit) (0.3.4)\n",
            "Requirement already satisfied: psutil>=5 in /usr/local/lib/python3.7/dist-packages (from qiskit-aqua==0.9.2->qiskit) (5.4.8)\n",
            "Requirement already satisfied: scikit-learn>=0.20.0 in /usr/local/lib/python3.7/dist-packages (from qiskit-aqua==0.9.2->qiskit) (0.22.2.post1)\n",
            "Requirement already satisfied: yfinance in /usr/local/lib/python3.7/dist-packages (from qiskit-aqua==0.9.2->qiskit) (0.1.60)\n",
            "Requirement already satisfied: h5py in /usr/local/lib/python3.7/dist-packages (from qiskit-aqua==0.9.2->qiskit) (3.1.0)\n",
            "Requirement already satisfied: quandl in /usr/local/lib/python3.7/dist-packages (from qiskit-aqua==0.9.2->qiskit) (3.6.1)\n",
            "Requirement already satisfied: retworkx>=0.8.0 in /usr/local/lib/python3.7/dist-packages (from qiskit-aqua==0.9.2->qiskit) (0.9.0)\n",
            "Requirement already satisfied: setuptools>=40.1.0 in /usr/local/lib/python3.7/dist-packages (from qiskit-aqua==0.9.2->qiskit) (57.0.0)\n",
            "Requirement already satisfied: pandas in /usr/local/lib/python3.7/dist-packages (from qiskit-aqua==0.9.2->qiskit) (1.1.5)\n",
            "Requirement already satisfied: urllib3>=1.21.1 in /usr/local/lib/python3.7/dist-packages (from qiskit-ibmq-provider==0.14.0->qiskit) (1.24.3)\n",
            "Requirement already satisfied: requests>=2.19 in /usr/local/lib/python3.7/dist-packages (from qiskit-ibmq-provider==0.14.0->qiskit) (2.23.0)\n",
            "Requirement already satisfied: websocket-client>=1.0.1 in /usr/local/lib/python3.7/dist-packages (from qiskit-ibmq-provider==0.14.0->qiskit) (1.1.0)\n",
            "Requirement already satisfied: python-dateutil>=2.8.0 in /usr/local/lib/python3.7/dist-packages (from qiskit-ibmq-provider==0.14.0->qiskit) (2.8.1)\n",
            "Requirement already satisfied: dill>=0.3 in /usr/local/lib/python3.7/dist-packages (from qiskit-ibmq-provider==0.14.0->qiskit) (0.3.4)\n",
            "Requirement already satisfied: requests-ntlm>=1.1.0 in /usr/local/lib/python3.7/dist-packages (from qiskit-ibmq-provider==0.14.0->qiskit) (1.1.0)\n",
            "Requirement already satisfied: jsonschema>=2.6 in /usr/local/lib/python3.7/dist-packages (from qiskit-terra==0.17.4->qiskit) (2.6.0)\n",
            "Requirement already satisfied: ply>=3.10 in /usr/local/lib/python3.7/dist-packages (from qiskit-terra==0.17.4->qiskit) (3.11)\n",
            "Requirement already satisfied: fastjsonschema>=2.10 in /usr/local/lib/python3.7/dist-packages (from qiskit-terra==0.17.4->qiskit) (2.15.1)\n",
            "Requirement already satisfied: python-constraint>=1.4 in /usr/local/lib/python3.7/dist-packages (from qiskit-terra==0.17.4->qiskit) (1.4.0)\n",
            "Requirement already satisfied: mpmath>=0.19 in /usr/local/lib/python3.7/dist-packages (from sympy>=1.3->qiskit-aqua==0.9.2->qiskit) (1.2.1)\n",
            "Requirement already satisfied: six in /usr/local/lib/python3.7/dist-packages (from docplex<=2.20.204; sys_platform != \"darwin\"->qiskit-aqua==0.9.2->qiskit) (1.15.0)\n",
            "Requirement already satisfied: joblib>=0.11 in /usr/local/lib/python3.7/dist-packages (from scikit-learn>=0.20.0->qiskit-aqua==0.9.2->qiskit) (1.0.1)\n",
            "Requirement already satisfied: multitasking>=0.0.7 in /usr/local/lib/python3.7/dist-packages (from yfinance->qiskit-aqua==0.9.2->qiskit) (0.0.9)\n",
            "Requirement already satisfied: lxml>=4.5.1 in /usr/local/lib/python3.7/dist-packages (from yfinance->qiskit-aqua==0.9.2->qiskit) (4.6.3)\n",
            "Requirement already satisfied: cached-property; python_version < \"3.8\" in /usr/local/lib/python3.7/dist-packages (from h5py->qiskit-aqua==0.9.2->qiskit) (1.5.2)\n",
            "Requirement already satisfied: inflection>=0.3.1 in /usr/local/lib/python3.7/dist-packages (from quandl->qiskit-aqua==0.9.2->qiskit) (0.5.1)\n",
            "Requirement already satisfied: more-itertools in /usr/local/lib/python3.7/dist-packages (from quandl->qiskit-aqua==0.9.2->qiskit) (8.8.0)\n",
            "Requirement already satisfied: pytz>=2017.2 in /usr/local/lib/python3.7/dist-packages (from pandas->qiskit-aqua==0.9.2->qiskit) (2018.9)\n",
            "Requirement already satisfied: idna<3,>=2.5 in /usr/local/lib/python3.7/dist-packages (from requests>=2.19->qiskit-ibmq-provider==0.14.0->qiskit) (2.10)\n",
            "Requirement already satisfied: certifi>=2017.4.17 in /usr/local/lib/python3.7/dist-packages (from requests>=2.19->qiskit-ibmq-provider==0.14.0->qiskit) (2021.5.30)\n",
            "Requirement already satisfied: chardet<4,>=3.0.2 in /usr/local/lib/python3.7/dist-packages (from requests>=2.19->qiskit-ibmq-provider==0.14.0->qiskit) (3.0.4)\n",
            "Requirement already satisfied: cryptography>=1.3 in /usr/local/lib/python3.7/dist-packages (from requests-ntlm>=1.1.0->qiskit-ibmq-provider==0.14.0->qiskit) (3.4.7)\n",
            "Requirement already satisfied: ntlm-auth>=1.0.2 in /usr/local/lib/python3.7/dist-packages (from requests-ntlm>=1.1.0->qiskit-ibmq-provider==0.14.0->qiskit) (1.5.0)\n",
            "Requirement already satisfied: cffi>=1.12 in /usr/local/lib/python3.7/dist-packages (from cryptography>=1.3->requests-ntlm>=1.1.0->qiskit-ibmq-provider==0.14.0->qiskit) (1.14.5)\n",
            "Requirement already satisfied: pycparser in /usr/local/lib/python3.7/dist-packages (from cffi>=1.12->cryptography>=1.3->requests-ntlm>=1.1.0->qiskit-ibmq-provider==0.14.0->qiskit) (2.20)\n",
            "Requirement already satisfied: qiskit_machine_learning in /usr/local/lib/python3.7/dist-packages (0.1.0)\n",
            "Requirement already satisfied: psutil>=5 in /usr/local/lib/python3.7/dist-packages (from qiskit_machine_learning) (5.4.8)\n",
            "Requirement already satisfied: sparse in /usr/local/lib/python3.7/dist-packages (from qiskit_machine_learning) (0.12.0)\n",
            "Requirement already satisfied: qiskit-terra>=0.17.0 in /usr/local/lib/python3.7/dist-packages (from qiskit_machine_learning) (0.17.4)\n",
            "Requirement already satisfied: fastdtw in /usr/local/lib/python3.7/dist-packages (from qiskit_machine_learning) (0.3.4)\n",
            "Requirement already satisfied: setuptools>=40.1.0 in /usr/local/lib/python3.7/dist-packages (from qiskit_machine_learning) (57.0.0)\n",
            "Requirement already satisfied: scikit-learn>=0.20.0 in /usr/local/lib/python3.7/dist-packages (from qiskit_machine_learning) (0.22.2.post1)\n",
            "Requirement already satisfied: scipy>=1.4 in /usr/local/lib/python3.7/dist-packages (from qiskit_machine_learning) (1.4.1)\n",
            "Requirement already satisfied: numpy>=1.17 in /usr/local/lib/python3.7/dist-packages (from qiskit_machine_learning) (1.19.5)\n",
            "Requirement already satisfied: numba>=0.49 in /usr/local/lib/python3.7/dist-packages (from sparse->qiskit_machine_learning) (0.51.2)\n",
            "Requirement already satisfied: python-constraint>=1.4 in /usr/local/lib/python3.7/dist-packages (from qiskit-terra>=0.17.0->qiskit_machine_learning) (1.4.0)\n",
            "Requirement already satisfied: retworkx>=0.8.0 in /usr/local/lib/python3.7/dist-packages (from qiskit-terra>=0.17.0->qiskit_machine_learning) (0.9.0)\n",
            "Requirement already satisfied: ply>=3.10 in /usr/local/lib/python3.7/dist-packages (from qiskit-terra>=0.17.0->qiskit_machine_learning) (3.11)\n",
            "Requirement already satisfied: sympy>=1.3 in /usr/local/lib/python3.7/dist-packages (from qiskit-terra>=0.17.0->qiskit_machine_learning) (1.7.1)\n",
            "Requirement already satisfied: jsonschema>=2.6 in /usr/local/lib/python3.7/dist-packages (from qiskit-terra>=0.17.0->qiskit_machine_learning) (2.6.0)\n",
            "Requirement already satisfied: dill>=0.3 in /usr/local/lib/python3.7/dist-packages (from qiskit-terra>=0.17.0->qiskit_machine_learning) (0.3.4)\n",
            "Requirement already satisfied: fastjsonschema>=2.10 in /usr/local/lib/python3.7/dist-packages (from qiskit-terra>=0.17.0->qiskit_machine_learning) (2.15.1)\n",
            "Requirement already satisfied: python-dateutil>=2.8.0 in /usr/local/lib/python3.7/dist-packages (from qiskit-terra>=0.17.0->qiskit_machine_learning) (2.8.1)\n",
            "Requirement already satisfied: joblib>=0.11 in /usr/local/lib/python3.7/dist-packages (from scikit-learn>=0.20.0->qiskit_machine_learning) (1.0.1)\n",
            "Requirement already satisfied: llvmlite<0.35,>=0.34.0.dev0 in /usr/local/lib/python3.7/dist-packages (from numba>=0.49->sparse->qiskit_machine_learning) (0.34.0)\n",
            "Requirement already satisfied: mpmath>=0.19 in /usr/local/lib/python3.7/dist-packages (from sympy>=1.3->qiskit-terra>=0.17.0->qiskit_machine_learning) (1.2.1)\n",
            "Requirement already satisfied: six>=1.5 in /usr/local/lib/python3.7/dist-packages (from python-dateutil>=2.8.0->qiskit-terra>=0.17.0->qiskit_machine_learning) (1.15.0)\n",
            "Requirement already satisfied: pylatexenc in /usr/local/lib/python3.7/dist-packages (2.10)\n"
          ],
          "name": "stdout"
        }
      ]
    },
    {
      "cell_type": "code",
      "metadata": {
        "id": "50NatF1eLr-0"
      },
      "source": [
        "##############################################################################\n",
        "# QNN Operating on MNIST data set\n",
        "# Matthew Dobson\n",
        "# github - https://github.com/mrdobson\n",
        "# \n",
        "##############################################################################\n",
        "# some of these packages are not necessary, will cull when code is in a better spot\n",
        "import numpy as np\n",
        "import matplotlib.pyplot as plt\n",
        "import time\n",
        "\n",
        "from torch import tensor\n",
        "from torch import cat, no_grad\n",
        "from torch.utils.data import DataLoader\n",
        "from torchvision import datasets, transforms\n",
        "from torch.nn import (Module, Conv2d, Linear, Dropout2d, NLLLoss, \n",
        "                      MaxPool2d, Flatten, Sequential, ReLU, CrossEntropyLoss)\n",
        "import torch.optim as optim\n",
        "import torch.nn.functional as F\n",
        "\n",
        "from qiskit import Aer, QuantumCircuit\n",
        "from qiskit.opflow import Z, I, StateFn, PauliSumOp, AerPauliExpectation, ListOp, Gradient\n",
        "from qiskit.utils import QuantumInstance\n",
        "from qiskit.circuit import Parameter\n",
        "from qiskit.circuit.library import RealAmplitudes, ZZFeatureMap\n",
        "from qiskit.algorithms.optimizers import COBYLA, L_BFGS_B, ADAM\n",
        "\n",
        "from qiskit_machine_learning.neural_networks import TwoLayerQNN, CircuitQNN\n",
        "from qiskit_machine_learning.algorithms.classifiers import NeuralNetworkClassifier, VQC\n",
        "from qiskit_machine_learning.algorithms.regressors import NeuralNetworkRegressor, VQR\n",
        "\n",
        "from qiskit_machine_learning.connectors import TorchConnector\n",
        "from qiskit_machine_learning.exceptions import QiskitMachineLearningError\n",
        "from sklearn.preprocessing import MinMaxScaler, StandardScaler\n",
        "from sklearn.metrics import confusion_matrix"
      ],
      "execution_count": null,
      "outputs": []
    },
    {
      "cell_type": "code",
      "metadata": {
        "id": "QbdCFZZlLuav"
      },
      "source": [
        "# ---------------\n",
        "# mode parameters:\n",
        "#    toggle these to customize behavior of the system\n",
        "# ---------------\n",
        "# will eventually turn this into a better \"mode select\"\n",
        "\n",
        "#qi = QuantumInstance(Aer.get_backend('qasm_simulator'), shots=1024)\n",
        "qi = QuantumInstance(Aer.get_backend('statevector_simulator'))\n",
        "\n",
        "# define number of qubits (max I guess, just trying stuff out)\n",
        "num_inputs = 4\n",
        "\n",
        "# number of epochs\n",
        "epochs = 5\n",
        "\n",
        "# number of samples for training\n",
        "n_samp_train = 1000\n",
        "\n",
        "# for testing\n",
        "n_samp_test = 400"
      ],
      "execution_count": null,
      "outputs": []
    },
    {
      "cell_type": "markdown",
      "metadata": {
        "id": "brqAF7HhMdWk"
      },
      "source": [
        "# Training and Testing Loaders"
      ]
    },
    {
      "cell_type": "code",
      "metadata": {
        "id": "WumdEGpzLwga"
      },
      "source": [
        "# training data load function\n",
        "def load_training(n_samples=70):\n",
        "    # returns tuple with X_train.data and X_train.targets <-- what I don't have from iris\n",
        "    X_train = datasets.MNIST(root='./data', train=True, download=True,\n",
        "                             transform=transforms.Compose([transforms.ToTensor()]))\n",
        "\n",
        "    # limit to num_samples of training set\n",
        "    X_train.data = X_train.data[:n_samples]\n",
        "    X_train.targets = X_train.targets[:n_samples]\n",
        "    #### DEBUG\n",
        "    #print(\"xtrain data \", X_train.data)\n",
        "    #print(\"xtrain targets \", X_train.targets)\n",
        "\n",
        "    # perform training load\n",
        "    train_loader = DataLoader(X_train, batch_size=1, shuffle=True)\n",
        "\n",
        "    # return loader\n",
        "    return train_loader"
      ],
      "execution_count": null,
      "outputs": []
    },
    {
      "cell_type": "code",
      "metadata": {
        "id": "69DrkPwaL0y9"
      },
      "source": [
        "# testing data load function\n",
        "def load_testing(val_1=0, val_2=1, n_samples=30):\n",
        "    X_test = datasets.MNIST(root='./data', train=False, download=True,\n",
        "                            transform=transforms.Compose([transforms.ToTensor()]))\n",
        "\n",
        "    # limit to num_samples of training set\n",
        "    X_test.data = X_test.data[:n_samples]\n",
        "    X_test.targets = X_test.targets[:n_samples]\n",
        "    #### DEBUG\n",
        "    #print(\"xtrain data \", X_test.data)\n",
        "    #print(\"xtrain targets \", X_test.targets)\n",
        "\n",
        "    # perform testing load\n",
        "    test_loader = DataLoader(X_test, batch_size=1, shuffle=True)\n",
        "\n",
        "    # return loader\n",
        "    return test_loader"
      ],
      "execution_count": null,
      "outputs": []
    },
    {
      "cell_type": "markdown",
      "metadata": {
        "id": "EZpxoyfrUsdU"
      },
      "source": [
        "# Training and Testing Functions"
      ]
    },
    {
      "cell_type": "code",
      "metadata": {
        "id": "0GRz-AtaU0Oo"
      },
      "source": [
        "# function to perform model training\n",
        "def perform_training(model, optimizer, loss_func, train_loader, epochs=5):\n",
        "    # start training timer\n",
        "    start_train = time.time()\n",
        "\n",
        "    loss_list = [] # store loss history\n",
        "    model.train()  # place model in training mode\n",
        "    print('\\nBegin training:')\n",
        "\n",
        "    for epoch in range(epochs):\n",
        "        total_loss = []\n",
        "        for batch_idx, (data, target) in enumerate(train_loader):\n",
        "            optimizer.zero_grad(set_to_none=True) # init gradient\n",
        "            output = model(data)             # forward pass\n",
        "            ### DEBUG\n",
        "            #print(\"target is: \", target)\n",
        "            #print(\"output is: \", output)\n",
        "            loss = loss_func(output, target) # calc loss\n",
        "            loss.backward()                  # backward pass\n",
        "            optimizer.step()                 # optimize weights\n",
        "            total_loss.append(loss.item())   # store loss\n",
        "        loss_list.append(sum(total_loss)/len(total_loss))\n",
        "        print('Training [{:0f}%]\\tLoss: {:.4f}'.format(\n",
        "              100. * (epoch + 1) / epochs, loss_list[-1]))\n",
        "        \n",
        "    # finish training timer, report training runtime\n",
        "    end_train = time.time()\n",
        "    print('Training runtime is: ', (end_train - start_train)/60, ' min')\n",
        "        \n",
        "    # plot results of cost reduction\n",
        "    plt.figure()\n",
        "    plt.plot(loss_list)\n",
        "    plt.title('Cost Reduction:')\n",
        "    plt.xlabel('Training Iterations ({0} epochs)'.format(epochs))\n",
        "    plt.ylabel('Cross Entropy Loss')\n",
        "    plt.show()\n",
        "\n",
        "    return total_loss"
      ],
      "execution_count": null,
      "outputs": []
    },
    {
      "cell_type": "code",
      "metadata": {
        "id": "Wkx2PLEkVCLK"
      },
      "source": [
        "# function to test and evaluate model\n",
        "def perform_eval(model, loss_func, test_loader, total_loss):\n",
        "    # start eval time\n",
        "    start_eval = time.time()\n",
        "\n",
        "    model.eval() # set into eval mode\n",
        "    print('Begin eval:')\n",
        "\n",
        "    with no_grad():\n",
        "        correct = 0\n",
        "        for batch_idx, (data, target) in enumerate(test_loader):\n",
        "            output = model(data)\n",
        "            if len(output.shape) == 1:\n",
        "                output = output.reshape(1, *output.shape)\n",
        "            \n",
        "            pred = output.argmax(dim=1, keepdim=True)\n",
        "            correct += pred.eq(target.view_as(pred)).sum().item()\n",
        "        \n",
        "            loss = loss_func(output, target)\n",
        "            total_loss.append(loss.item())\n",
        "        # batch_size goes where the 1 is here\n",
        "        print('Performance on test data:\\n\\tLoss: {:.4f}\\n\\tAccuracy: {:.1f}%'\n",
        "              .format(sum(total_loss) / len(total_loss),\n",
        "              correct / len(test_loader) / 1 * 100))\n",
        "    \n",
        "    # end eval time\n",
        "    end_eval = time.time()\n",
        "    print('Evaluation time is: ', (end_eval - start_eval)/60, ' min')"
      ],
      "execution_count": null,
      "outputs": []
    },
    {
      "cell_type": "markdown",
      "metadata": {
        "id": "eh8BoHf_Mj-3"
      },
      "source": [
        "# QNN Definitions"
      ]
    },
    {
      "cell_type": "code",
      "metadata": {
        "colab": {
          "base_uri": "https://localhost:8080/"
        },
        "id": "AuJLbINmL2gq",
        "outputId": "76275853-9aff-415c-bfa1-3248116e9820"
      },
      "source": [
        "# data structure to hold QNN objects\n",
        "qnn_list = []\n",
        "\n",
        "for i in range(2, num_inputs+1):\n",
        "    # ZZ is 2nd order Pauli expansion circuit\n",
        "    # pauli feature map - pass\n",
        "    fm = ZZFeatureMap(i)\n",
        "    #fm.draw(output='mpl')\n",
        "\n",
        "    # RealAmplitudes is used as an ansatz for ML, heuristic trial wave func\n",
        "    # efficient SU2\n",
        "    ansatz = RealAmplitudes(i, reps=4)\n",
        "    #ansatz.draw(output='mpl')\n",
        "\n",
        "    # define observable\n",
        "    observable = PauliSumOp.from_list([('Z'*i, 1)])\n",
        "    #print(observable)\n",
        "\n",
        "    # define two layer QNN\n",
        "    qnn = TwoLayerQNN(i, \n",
        "                      feature_map=fm, \n",
        "                      ansatz=ansatz, \n",
        "                      observable=observable,\n",
        "                      quantum_instance=qi)\n",
        "    #print(qnn.operator)\n",
        "    \n",
        "    # append the QNN object to our data structure\n",
        "    qnn_list.append(qnn)\n",
        "\n",
        "# validate, might not work though?\n",
        "# should contain objects for 2, 3 and 4 qubit QNN circuits\n",
        "print(len(qnn_list))\n",
        "print(qnn_list)"
      ],
      "execution_count": null,
      "outputs": [
        {
          "output_type": "stream",
          "text": [
            "3\n",
            "[<qiskit_machine_learning.neural_networks.two_layer_qnn.TwoLayerQNN object at 0x7fa1666aff50>, <qiskit_machine_learning.neural_networks.two_layer_qnn.TwoLayerQNN object at 0x7fa165efe150>, <qiskit_machine_learning.neural_networks.two_layer_qnn.TwoLayerQNN object at 0x7fa165e6c250>]\n"
          ],
          "name": "stdout"
        }
      ]
    },
    {
      "cell_type": "markdown",
      "metadata": {
        "id": "K328woHpTtyH"
      },
      "source": [
        "# Neural Network"
      ]
    },
    {
      "cell_type": "code",
      "metadata": {
        "id": "P4eEJqPkPbFw"
      },
      "source": [
        "# legitimately don't know how else to do this but create three separate classes\n",
        "# to make it work with qiskit, but also I am an amateur at this\n",
        "\n",
        "# stupid simple solution I guess\n",
        "class Net2(Module):\n",
        "\n",
        "    def __init__(self):\n",
        "        super().__init__()\n",
        "        self.conv1 = Conv2d(1, 3, kernel_size=5)\n",
        "        self.conv2 = Conv2d(3, 32, kernel_size=5)\n",
        "        self.dropout = Dropout2d()\n",
        "        self.fc1 = Linear(512, 128)\n",
        "        self.fc2 = Linear(128, 2)         # 2-dimensional input to QNN\n",
        "        self.qnn = TorchConnector(qnn_list[0])\n",
        "        self.fc3 = Linear(1, 10)          # 1-dimensional output from QNN\n",
        "\n",
        "    def forward(self, x):\n",
        "        x = F.relu(self.conv1(x))\n",
        "        x = F.max_pool2d(x, 2)\n",
        "        x = F.relu(self.conv2(x))\n",
        "        x = F.max_pool2d(x, 2)\n",
        "        x = self.dropout(x)\n",
        "        x = x.view(1, -1)\n",
        "        x = F.relu(self.fc1(x))\n",
        "        x = self.fc2(x)\n",
        "        x = x.cpu()\n",
        "        #print('x type is: ', type(x))\n",
        "        x = self.qnn(x)  # apply QNN\n",
        "        # typecast qnn output to a cuda tensor\n",
        "        #x = x.type(dtype=torch.cuda.FloatTensor)\n",
        "        x = self.fc3(x)\n",
        "        return cat((x, 1 - x), -1)\n",
        "\n",
        "class Net3(Module):\n",
        "\n",
        "    def __init__(self):\n",
        "        super().__init__()\n",
        "        self.conv1 = Conv2d(1, 3, kernel_size=5)\n",
        "        self.conv2 = Conv2d(3, 32, kernel_size=5)\n",
        "        self.dropout = Dropout2d()\n",
        "        self.fc1 = Linear(512, 128)\n",
        "        self.fc2 = Linear(128, 3)         # 2-dimensional input to QNN\n",
        "        self.qnn = TorchConnector(qnn_list[1])\n",
        "        self.fc3 = Linear(1, 10)          # 1-dimensional output from QNN\n",
        "\n",
        "    def forward(self, x):\n",
        "        x = F.relu(self.conv1(x))\n",
        "        x = F.max_pool2d(x, 2)\n",
        "        x = F.relu(self.conv2(x))\n",
        "        x = F.max_pool2d(x, 2)\n",
        "        x = self.dropout(x)\n",
        "        x = x.view(1, -1)\n",
        "        x = F.relu(self.fc1(x))\n",
        "        x = self.fc2(x)\n",
        "        x = x.cpu()\n",
        "        #print('x type is: ', type(x))\n",
        "        x = self.qnn(x)  # apply QNN\n",
        "        # typecast qnn output to a cuda tensor\n",
        "        #x = x.type(dtype=torch.cuda.FloatTensor)\n",
        "        x = self.fc3(x)\n",
        "        return cat((x, 1 - x), -1)\n",
        "\n",
        "class Net4(Module):\n",
        "\n",
        "    def __init__(self):\n",
        "        super().__init__()\n",
        "        self.conv1 = Conv2d(1, 3, kernel_size=5)\n",
        "        self.conv2 = Conv2d(3, 32, kernel_size=5)\n",
        "        self.dropout = Dropout2d()\n",
        "        self.fc1 = Linear(512, 128)\n",
        "        self.fc2 = Linear(128, 4)         # 2-dimensional input to QNN\n",
        "        self.qnn = TorchConnector(qnn_list[2])\n",
        "        self.fc3 = Linear(1, 10)          # 1-dimensional output from QNN\n",
        "\n",
        "    def forward(self, x):\n",
        "        x = F.relu(self.conv1(x))\n",
        "        x = F.max_pool2d(x, 2)\n",
        "        x = F.relu(self.conv2(x))\n",
        "        x = F.max_pool2d(x, 2)\n",
        "        x = self.dropout(x)\n",
        "        x = x.view(1, -1)\n",
        "        x = F.relu(self.fc1(x))\n",
        "        x = self.fc2(x)\n",
        "        x = x.cpu()\n",
        "        #print('x type is: ', type(x))\n",
        "        x = self.qnn(x)  # apply QNN\n",
        "        # typecast qnn output to a cuda tensor\n",
        "        #x = x.type(dtype=torch.cuda.FloatTensor)\n",
        "        x = self.fc3(x)\n",
        "        return cat((x, 1 - x), -1)\n",
        "\n",
        "model2 = Net2()\n",
        "model3 = Net3()\n",
        "model4 = Net4()"
      ],
      "execution_count": null,
      "outputs": []
    },
    {
      "cell_type": "code",
      "metadata": {
        "id": "wkPvCYEwV49e"
      },
      "source": [
        "# define model, optimizer and loss function\n",
        "optimizer2 = optim.Adam(model2.parameters(), lr=0.001)\n",
        "optimizer3 = optim.Adam(model3.parameters(), lr=0.001)\n",
        "optimizer4 = optim.Adam(model4.parameters(), lr=0.001)\n",
        "\n",
        "loss_func = CrossEntropyLoss()"
      ],
      "execution_count": null,
      "outputs": []
    },
    {
      "cell_type": "markdown",
      "metadata": {
        "id": "oibkLgxmVSeO"
      },
      "source": [
        "# Main Program (2 qubit)"
      ]
    },
    {
      "cell_type": "code",
      "metadata": {
        "colab": {
          "base_uri": "https://localhost:8080/",
          "height": 664
        },
        "id": "EJCuw5fRSsQ-",
        "outputId": "e247a750-5f64-4d97-8671-a0b005b5f676"
      },
      "source": [
        "# total program runtime\n",
        "start_eval = time.time()\n",
        "print(\"Begin 2 qubit\")\n",
        "\n",
        "# data load\n",
        "trn_load = load_training(n_samp_train)\n",
        "tst_load = load_testing(n_samp_test)\n",
        "\n",
        "# train 2 qubit\n",
        "tot_loss2 = perform_training(model2, optimizer2, loss_func, trn_load, epochs)\n",
        "\n",
        "# eval 2 qubit\n",
        "perform_eval(model2, loss_func, tst_load, tot_loss2)\n",
        "\n",
        "# end eval time\n",
        "end_eval = time.time()\n",
        "print('2Qubit - Total program runtime is: ', (end_eval - start_eval)/60, ' min')"
      ],
      "execution_count": null,
      "outputs": [
        {
          "output_type": "stream",
          "text": [
            "Begin 2 qubit\n",
            "\n",
            "Begin training:\n"
          ],
          "name": "stdout"
        },
        {
          "output_type": "stream",
          "text": [
            "/usr/local/lib/python3.7/dist-packages/torchvision/datasets/mnist.py:498: UserWarning: The given NumPy array is not writeable, and PyTorch does not support non-writeable tensors. This means you can write to the underlying (supposedly non-writeable) NumPy array using the tensor. You may want to copy the array to protect its data or make it writeable before converting it to a tensor. This type of warning will be suppressed for the rest of this program. (Triggered internally at  /pytorch/torch/csrc/utils/tensor_numpy.cpp:180.)\n",
            "  return torch.from_numpy(parsed.astype(m[2], copy=False)).view(*s)\n",
            "/usr/local/lib/python3.7/dist-packages/torch/nn/functional.py:718: UserWarning: Named tensors and all their associated APIs are an experimental feature and subject to change. Please do not use them for anything important until they are released as stable. (Triggered internally at  /pytorch/c10/core/TensorImpl.h:1156.)\n",
            "  return torch.max_pool2d(input, kernel_size, stride, padding, dilation, ceil_mode)\n"
          ],
          "name": "stderr"
        },
        {
          "output_type": "stream",
          "text": [
            "Training [20.000000%]\tLoss: 3.0736\n",
            "Training [40.000000%]\tLoss: 2.6469\n",
            "Training [60.000000%]\tLoss: 2.4884\n",
            "Training [80.000000%]\tLoss: 2.4140\n",
            "Training [100.000000%]\tLoss: 2.3427\n",
            "Training runtime is:  16.74954427878062  min\n"
          ],
          "name": "stdout"
        },
        {
          "output_type": "display_data",
          "data": {
            "image/png": "[encoded data removed]",
            "text/plain": [
              "<Figure size 432x288 with 1 Axes>"
            ]
          },
          "metadata": {
            "tags": [],
            "needs_background": "light"
          }
        },
        {
          "output_type": "stream",
          "text": [
            "Begin eval:\n",
            "Performance on test data:\n",
            "\tLoss: 2.3411\n",
            "\tAccuracy: 20.0%\n",
            "Evaluation time is:  0.006042067209879557  min\n",
            "2Qubit - Total program runtime is:  16.759840846061707  min\n"
          ],
          "name": "stdout"
        }
      ]
    },
    {
      "cell_type": "markdown",
      "metadata": {
        "id": "4hRQGxjXWlR5"
      },
      "source": [
        "# Main Program (3 qubit)"
      ]
    },
    {
      "cell_type": "code",
      "metadata": {
        "colab": {
          "base_uri": "https://localhost:8080/",
          "height": 571
        },
        "id": "amVHa-uIWnOj",
        "outputId": "86ee61ff-b0e9-46db-b4f0-d7b9b8e92999"
      },
      "source": [
        "\n",
        "# total program runtime\n",
        "start_eval = time.time()\n",
        "print(\"Begin 3 qubit\")\n",
        "\n",
        "# train 3 qubit\n",
        "tot_loss3 = perform_training(model2, optimizer3, loss_func, trn_load, epochs)\n",
        "\n",
        "# eval 3 qubit\n",
        "perform_eval(model2, loss_func, tst_load, tot_loss3)\n",
        "\n",
        "# end eval time\n",
        "end_eval = time.time()\n",
        "print('3Qubit - Total program runtime is: ', (end_eval - start_eval)/60, ' min')"
      ],
      "execution_count": null,
      "outputs": [
        {
          "output_type": "stream",
          "text": [
            "Begin 3 qubit\n",
            "\n",
            "Begin training:\n",
            "Training [20.000000%]\tLoss: 2.2978\n",
            "Training [40.000000%]\tLoss: 2.3028\n",
            "Training [60.000000%]\tLoss: 2.3062\n",
            "Training [80.000000%]\tLoss: 2.3042\n",
            "Training [100.000000%]\tLoss: 2.3007\n",
            "Training runtime is:  16.285771254698435  min\n"
          ],
          "name": "stdout"
        },
        {
          "output_type": "display_data",
          "data": {
            "image/png": "[encoded data removed]",
            "text/plain": [
              "<Figure size 432x288 with 1 Axes>"
            ]
          },
          "metadata": {
            "tags": [],
            "needs_background": "light"
          }
        },
        {
          "output_type": "stream",
          "text": [
            "Begin eval:\n",
            "Performance on test data:\n",
            "\tLoss: 2.3003\n",
            "\tAccuracy: 20.0%\n",
            "Evaluation time is:  0.005397244294484457  min\n",
            "3Qubit - Total program runtime is:  16.293797111511232  min\n"
          ],
          "name": "stdout"
        }
      ]
    },
    {
      "cell_type": "markdown",
      "metadata": {
        "id": "vsWYBY_ZWoMd"
      },
      "source": [
        "# Main Program (4 qubit)"
      ]
    },
    {
      "cell_type": "code",
      "metadata": {
        "colab": {
          "base_uri": "https://localhost:8080/",
          "height": 571
        },
        "id": "lSvKtACyWq8z",
        "outputId": "7980b59e-9ab9-4ea3-903b-f8be449d5d4d"
      },
      "source": [
        "# total program runtime\n",
        "start_eval = time.time()\n",
        "print(\"Begin 4 qubit\")\n",
        "\n",
        "# train 3 qubit\n",
        "tot_loss4 = perform_training(model2, optimizer4, loss_func, trn_load, epochs)\n",
        "\n",
        "# eval 3 qubit\n",
        "perform_eval(model2, loss_func, tst_load, tot_loss4)\n",
        "\n",
        "# end eval time\n",
        "end_eval = time.time()\n",
        "print('4Qubit - Total program runtime is: ', (end_eval - start_eval)/60, ' min')"
      ],
      "execution_count": null,
      "outputs": [
        {
          "output_type": "stream",
          "text": [
            "Begin 4 qubit\n",
            "\n",
            "Begin training:\n",
            "Training [20.000000%]\tLoss: 2.3033\n",
            "Training [40.000000%]\tLoss: 2.3035\n",
            "Training [60.000000%]\tLoss: 2.2984\n",
            "Training [80.000000%]\tLoss: 2.3021\n",
            "Training [100.000000%]\tLoss: 2.2996\n",
            "Training runtime is:  16.194825887680054  min\n"
          ],
          "name": "stdout"
        },
        {
          "output_type": "display_data",
          "data": {
            "image/png": "[encoded data removed]",
            "text/plain": [
              "<Figure size 432x288 with 1 Axes>"
            ]
          },
          "metadata": {
            "tags": [],
            "needs_background": "light"
          }
        },
        {
          "output_type": "stream",
          "text": [
            "Begin eval:\n",
            "Performance on test data:\n",
            "\tLoss: 2.2992\n",
            "\tAccuracy: 20.0%\n",
            "Evaluation time is:  0.00573887825012207  min\n",
            "4Qubit - Total program runtime is:  16.20314642985662  min\n"
          ],
          "name": "stdout"
        }
      ]
    }
  ]
}